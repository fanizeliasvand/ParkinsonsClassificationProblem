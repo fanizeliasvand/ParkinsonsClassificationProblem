{
 "cells": [
  {
   "cell_type": "code",
   "execution_count": 2,
   "metadata": {},
   "outputs": [],
   "source": [
    "#svm for parkinsons in python\n",
    "#cs491 prof.kahanda\n",
    "#Dyanell, Faniz, Jeison\n",
    "\n",
    "#imports we will be using for this project\n",
    "\n",
    "import pandas as pd\n",
    "import numpy as np\n",
    "import matplotlib.pyplot as plt\n"
   ]
  },
  {
   "cell_type": "code",
   "execution_count": 3,
   "metadata": {},
   "outputs": [],
   "source": [
    "#creating the data frames for each of our classes\n",
    "h_df = pd.read_csv('healthy control data repo\\healthycomplete.csv')\n",
    "et_df =  pd.read_csv('essentialTremour\\essentialcomplete.csv')\n",
    "parkinsons_df = pd.read_csv('parkinsons data repo\\parkinsonscomplete.csv')"
   ]
  },
  {
   "cell_type": "code",
   "execution_count": 4,
   "metadata": {},
   "outputs": [
    {
     "data": {
      "text/html": [
       "<div>\n",
       "<style scoped>\n",
       "    .dataframe tbody tr th:only-of-type {\n",
       "        vertical-align: middle;\n",
       "    }\n",
       "\n",
       "    .dataframe tbody tr th {\n",
       "        vertical-align: top;\n",
       "    }\n",
       "\n",
       "    .dataframe thead th {\n",
       "        text-align: right;\n",
       "    }\n",
       "</style>\n",
       "<table border=\"1\" class=\"dataframe\">\n",
       "  <thead>\n",
       "    <tr style=\"text-align: right;\">\n",
       "      <th></th>\n",
       "      <th>Unnamed: 0</th>\n",
       "      <th>TimeStamp(epoch)</th>\n",
       "      <th>mAccelerometerMagnitude(m/s^2)</th>\n",
       "      <th>mAccelerometerX(m/s^2)</th>\n",
       "      <th>mAccelerometerY(m/s^2)</th>\n",
       "      <th>mAccelerometerZ(m/s^2)</th>\n",
       "      <th>mGyroscopeMagnitude(rad/s)</th>\n",
       "      <th>mGyroscopeX(rad/s)</th>\n",
       "      <th>mGyroscopeY(rad/s)</th>\n",
       "      <th>mGyroscopeZ(rad/s)</th>\n",
       "    </tr>\n",
       "  </thead>\n",
       "  <tbody>\n",
       "    <tr>\n",
       "      <th>0</th>\n",
       "      <td>0</td>\n",
       "      <td>1566316522372</td>\n",
       "      <td>10.019530</td>\n",
       "      <td>0.991538</td>\n",
       "      <td>6.049819</td>\n",
       "      <td>7.925120</td>\n",
       "      <td>0.905952</td>\n",
       "      <td>0.573112</td>\n",
       "      <td>-0.698813</td>\n",
       "      <td>-0.062851</td>\n",
       "    </tr>\n",
       "    <tr>\n",
       "      <th>1</th>\n",
       "      <td>1</td>\n",
       "      <td>1566316522380</td>\n",
       "      <td>13.023696</td>\n",
       "      <td>-0.502954</td>\n",
       "      <td>6.337222</td>\n",
       "      <td>11.366763</td>\n",
       "      <td>0.925801</td>\n",
       "      <td>0.655138</td>\n",
       "      <td>-0.654072</td>\n",
       "      <td>-0.009587</td>\n",
       "    </tr>\n",
       "    <tr>\n",
       "      <th>2</th>\n",
       "      <td>2</td>\n",
       "      <td>1566316522380</td>\n",
       "      <td>13.466437</td>\n",
       "      <td>-0.670605</td>\n",
       "      <td>6.320457</td>\n",
       "      <td>11.872112</td>\n",
       "      <td>0.960038</td>\n",
       "      <td>0.755273</td>\n",
       "      <td>-0.590156</td>\n",
       "      <td>0.054328</td>\n",
       "    </tr>\n",
       "    <tr>\n",
       "      <th>3</th>\n",
       "      <td>3</td>\n",
       "      <td>1566316522394</td>\n",
       "      <td>13.802365</td>\n",
       "      <td>-0.579595</td>\n",
       "      <td>6.318062</td>\n",
       "      <td>12.257710</td>\n",
       "      <td>0.983773</td>\n",
       "      <td>0.827711</td>\n",
       "      <td>-0.521980</td>\n",
       "      <td>0.101200</td>\n",
       "    </tr>\n",
       "    <tr>\n",
       "      <th>4</th>\n",
       "      <td>4</td>\n",
       "      <td>1566316522394</td>\n",
       "      <td>13.968290</td>\n",
       "      <td>-0.522114</td>\n",
       "      <td>6.406678</td>\n",
       "      <td>12.401412</td>\n",
       "      <td>0.993939</td>\n",
       "      <td>0.875647</td>\n",
       "      <td>-0.445281</td>\n",
       "      <td>0.151268</td>\n",
       "    </tr>\n",
       "  </tbody>\n",
       "</table>\n",
       "</div>"
      ],
      "text/plain": [
       "   Unnamed: 0  TimeStamp(epoch)  mAccelerometerMagnitude(m/s^2)  \\\n",
       "0           0     1566316522372                       10.019530   \n",
       "1           1     1566316522380                       13.023696   \n",
       "2           2     1566316522380                       13.466437   \n",
       "3           3     1566316522394                       13.802365   \n",
       "4           4     1566316522394                       13.968290   \n",
       "\n",
       "   mAccelerometerX(m/s^2)  mAccelerometerY(m/s^2)  mAccelerometerZ(m/s^2)  \\\n",
       "0                0.991538                6.049819                7.925120   \n",
       "1               -0.502954                6.337222               11.366763   \n",
       "2               -0.670605                6.320457               11.872112   \n",
       "3               -0.579595                6.318062               12.257710   \n",
       "4               -0.522114                6.406678               12.401412   \n",
       "\n",
       "   mGyroscopeMagnitude(rad/s)  mGyroscopeX(rad/s)  mGyroscopeY(rad/s)  \\\n",
       "0                    0.905952            0.573112           -0.698813   \n",
       "1                    0.925801            0.655138           -0.654072   \n",
       "2                    0.960038            0.755273           -0.590156   \n",
       "3                    0.983773            0.827711           -0.521980   \n",
       "4                    0.993939            0.875647           -0.445281   \n",
       "\n",
       "   mGyroscopeZ(rad/s)   \n",
       "0            -0.062851  \n",
       "1            -0.009587  \n",
       "2             0.054328  \n",
       "3             0.101200  \n",
       "4             0.151268  "
      ]
     },
     "execution_count": 4,
     "metadata": {},
     "output_type": "execute_result"
    }
   ],
   "source": [
    "#calling the dataframe + head to see what the data frame looks like\n",
    "#since they are all formatted the same way, we will only call on one\n",
    "h_df.head()\n",
    "\n"
   ]
  },
  {
   "cell_type": "code",
   "execution_count": 5,
   "metadata": {},
   "outputs": [
    {
     "name": "stdout",
     "output_type": "stream",
     "text": [
      "(331983, 10) (261933, 10) (346191, 11)\n"
     ]
    }
   ],
   "source": [
    "#calling the shape func to see the size of each class\n",
    "print (h_df.shape, et_df.shape, parkinsons_df.shape)"
   ]
  },
  {
   "cell_type": "code",
   "execution_count": 6,
   "metadata": {},
   "outputs": [],
   "source": [
    "#going to drop irrelevant columns from my data frames and saving that change\n",
    "h_df.drop(h_df.columns[[0,2,6]], axis=1, inplace=True)\n"
   ]
  },
  {
   "cell_type": "code",
   "execution_count": 7,
   "metadata": {},
   "outputs": [
    {
     "data": {
      "text/plain": [
       "(331983, 7)"
      ]
     },
     "execution_count": 7,
     "metadata": {},
     "output_type": "execute_result"
    }
   ],
   "source": [
    "#new dimenstions of df\n",
    "h_df.shape"
   ]
  },
  {
   "cell_type": "code",
   "execution_count": 8,
   "metadata": {},
   "outputs": [
    {
     "data": {
      "text/html": [
       "<div>\n",
       "<style scoped>\n",
       "    .dataframe tbody tr th:only-of-type {\n",
       "        vertical-align: middle;\n",
       "    }\n",
       "\n",
       "    .dataframe tbody tr th {\n",
       "        vertical-align: top;\n",
       "    }\n",
       "\n",
       "    .dataframe thead th {\n",
       "        text-align: right;\n",
       "    }\n",
       "</style>\n",
       "<table border=\"1\" class=\"dataframe\">\n",
       "  <thead>\n",
       "    <tr style=\"text-align: right;\">\n",
       "      <th></th>\n",
       "      <th>TimeStamp(epoch)</th>\n",
       "      <th>mAccelerometerX(m/s^2)</th>\n",
       "      <th>mAccelerometerY(m/s^2)</th>\n",
       "      <th>mAccelerometerZ(m/s^2)</th>\n",
       "      <th>mGyroscopeX(rad/s)</th>\n",
       "      <th>mGyroscopeY(rad/s)</th>\n",
       "      <th>mGyroscopeZ(rad/s)</th>\n",
       "    </tr>\n",
       "  </thead>\n",
       "  <tbody>\n",
       "    <tr>\n",
       "      <th>0</th>\n",
       "      <td>1566316522372</td>\n",
       "      <td>0.991538</td>\n",
       "      <td>6.049819</td>\n",
       "      <td>7.925120</td>\n",
       "      <td>0.573112</td>\n",
       "      <td>-0.698813</td>\n",
       "      <td>-0.062851</td>\n",
       "    </tr>\n",
       "    <tr>\n",
       "      <th>1</th>\n",
       "      <td>1566316522380</td>\n",
       "      <td>-0.502954</td>\n",
       "      <td>6.337222</td>\n",
       "      <td>11.366763</td>\n",
       "      <td>0.655138</td>\n",
       "      <td>-0.654072</td>\n",
       "      <td>-0.009587</td>\n",
       "    </tr>\n",
       "    <tr>\n",
       "      <th>2</th>\n",
       "      <td>1566316522380</td>\n",
       "      <td>-0.670605</td>\n",
       "      <td>6.320457</td>\n",
       "      <td>11.872112</td>\n",
       "      <td>0.755273</td>\n",
       "      <td>-0.590156</td>\n",
       "      <td>0.054328</td>\n",
       "    </tr>\n",
       "    <tr>\n",
       "      <th>3</th>\n",
       "      <td>1566316522394</td>\n",
       "      <td>-0.579595</td>\n",
       "      <td>6.318062</td>\n",
       "      <td>12.257710</td>\n",
       "      <td>0.827711</td>\n",
       "      <td>-0.521980</td>\n",
       "      <td>0.101200</td>\n",
       "    </tr>\n",
       "    <tr>\n",
       "      <th>4</th>\n",
       "      <td>1566316522394</td>\n",
       "      <td>-0.522114</td>\n",
       "      <td>6.406678</td>\n",
       "      <td>12.401412</td>\n",
       "      <td>0.875647</td>\n",
       "      <td>-0.445281</td>\n",
       "      <td>0.151268</td>\n",
       "    </tr>\n",
       "  </tbody>\n",
       "</table>\n",
       "</div>"
      ],
      "text/plain": [
       "   TimeStamp(epoch)  mAccelerometerX(m/s^2)  mAccelerometerY(m/s^2)  \\\n",
       "0     1566316522372                0.991538                6.049819   \n",
       "1     1566316522380               -0.502954                6.337222   \n",
       "2     1566316522380               -0.670605                6.320457   \n",
       "3     1566316522394               -0.579595                6.318062   \n",
       "4     1566316522394               -0.522114                6.406678   \n",
       "\n",
       "   mAccelerometerZ(m/s^2)  mGyroscopeX(rad/s)  mGyroscopeY(rad/s)  \\\n",
       "0                7.925120            0.573112           -0.698813   \n",
       "1               11.366763            0.655138           -0.654072   \n",
       "2               11.872112            0.755273           -0.590156   \n",
       "3               12.257710            0.827711           -0.521980   \n",
       "4               12.401412            0.875647           -0.445281   \n",
       "\n",
       "   mGyroscopeZ(rad/s)   \n",
       "0            -0.062851  \n",
       "1            -0.009587  \n",
       "2             0.054328  \n",
       "3             0.101200  \n",
       "4             0.151268  "
      ]
     },
     "execution_count": 8,
     "metadata": {},
     "output_type": "execute_result"
    }
   ],
   "source": [
    "#post dropping columns\n",
    "h_df.head()\n"
   ]
  },
  {
   "cell_type": "code",
   "execution_count": 9,
   "metadata": {},
   "outputs": [],
   "source": [
    "#repeating that process two more times for the other classes\n",
    "et_df.drop(et_df.columns[[0,2,6]], axis=1, inplace=True)\n",
    "\n"
   ]
  },
  {
   "cell_type": "code",
   "execution_count": 10,
   "metadata": {},
   "outputs": [
    {
     "data": {
      "text/html": [
       "<div>\n",
       "<style scoped>\n",
       "    .dataframe tbody tr th:only-of-type {\n",
       "        vertical-align: middle;\n",
       "    }\n",
       "\n",
       "    .dataframe tbody tr th {\n",
       "        vertical-align: top;\n",
       "    }\n",
       "\n",
       "    .dataframe thead th {\n",
       "        text-align: right;\n",
       "    }\n",
       "</style>\n",
       "<table border=\"1\" class=\"dataframe\">\n",
       "  <thead>\n",
       "    <tr style=\"text-align: right;\">\n",
       "      <th></th>\n",
       "      <th>TimeStamp(epoch)</th>\n",
       "      <th>mAccelerometerX(m/s^2)</th>\n",
       "      <th>mAccelerometerY(m/s^2)</th>\n",
       "      <th>mAccelerometerZ(m/s^2)</th>\n",
       "      <th>mGyroscopeX(rad/s)</th>\n",
       "      <th>mGyroscopeY(rad/s)</th>\n",
       "      <th>mGyroscopeZ(rad/s)</th>\n",
       "    </tr>\n",
       "  </thead>\n",
       "  <tbody>\n",
       "    <tr>\n",
       "      <th>0</th>\n",
       "      <td>1574191816923</td>\n",
       "      <td>5.106182</td>\n",
       "      <td>-2.318379</td>\n",
       "      <td>6.595884</td>\n",
       "      <td>0.304666</td>\n",
       "      <td>0.017044</td>\n",
       "      <td>0.154463</td>\n",
       "    </tr>\n",
       "    <tr>\n",
       "      <th>1</th>\n",
       "      <td>1574191816923</td>\n",
       "      <td>5.197193</td>\n",
       "      <td>-2.251319</td>\n",
       "      <td>6.370752</td>\n",
       "      <td>0.320645</td>\n",
       "      <td>0.022371</td>\n",
       "      <td>0.124636</td>\n",
       "    </tr>\n",
       "    <tr>\n",
       "      <th>2</th>\n",
       "      <td>1574191816929</td>\n",
       "      <td>4.713399</td>\n",
       "      <td>-2.500401</td>\n",
       "      <td>8.169412</td>\n",
       "      <td>0.325971</td>\n",
       "      <td>0.023436</td>\n",
       "      <td>0.116114</td>\n",
       "    </tr>\n",
       "    <tr>\n",
       "      <th>3</th>\n",
       "      <td>1574191816929</td>\n",
       "      <td>4.722979</td>\n",
       "      <td>-2.418970</td>\n",
       "      <td>8.049661</td>\n",
       "      <td>0.298274</td>\n",
       "      <td>0.027697</td>\n",
       "      <td>0.106526</td>\n",
       "    </tr>\n",
       "    <tr>\n",
       "      <th>4</th>\n",
       "      <td>1574191816930</td>\n",
       "      <td>4.639153</td>\n",
       "      <td>-2.459685</td>\n",
       "      <td>7.029383</td>\n",
       "      <td>0.269512</td>\n",
       "      <td>0.008522</td>\n",
       "      <td>0.073503</td>\n",
       "    </tr>\n",
       "  </tbody>\n",
       "</table>\n",
       "</div>"
      ],
      "text/plain": [
       "   TimeStamp(epoch)  mAccelerometerX(m/s^2)  mAccelerometerY(m/s^2)  \\\n",
       "0     1574191816923                5.106182               -2.318379   \n",
       "1     1574191816923                5.197193               -2.251319   \n",
       "2     1574191816929                4.713399               -2.500401   \n",
       "3     1574191816929                4.722979               -2.418970   \n",
       "4     1574191816930                4.639153               -2.459685   \n",
       "\n",
       "   mAccelerometerZ(m/s^2)  mGyroscopeX(rad/s)  mGyroscopeY(rad/s)  \\\n",
       "0                6.595884            0.304666            0.017044   \n",
       "1                6.370752            0.320645            0.022371   \n",
       "2                8.169412            0.325971            0.023436   \n",
       "3                8.049661            0.298274            0.027697   \n",
       "4                7.029383            0.269512            0.008522   \n",
       "\n",
       "   mGyroscopeZ(rad/s)   \n",
       "0             0.154463  \n",
       "1             0.124636  \n",
       "2             0.116114  \n",
       "3             0.106526  \n",
       "4             0.073503  "
      ]
     },
     "execution_count": 10,
     "metadata": {},
     "output_type": "execute_result"
    }
   ],
   "source": [
    "et_df.head()\n"
   ]
  },
  {
   "cell_type": "code",
   "execution_count": 11,
   "metadata": {},
   "outputs": [
    {
     "data": {
      "text/html": [
       "<div>\n",
       "<style scoped>\n",
       "    .dataframe tbody tr th:only-of-type {\n",
       "        vertical-align: middle;\n",
       "    }\n",
       "\n",
       "    .dataframe tbody tr th {\n",
       "        vertical-align: top;\n",
       "    }\n",
       "\n",
       "    .dataframe thead th {\n",
       "        text-align: right;\n",
       "    }\n",
       "</style>\n",
       "<table border=\"1\" class=\"dataframe\">\n",
       "  <thead>\n",
       "    <tr style=\"text-align: right;\">\n",
       "      <th></th>\n",
       "      <th>Unnamed: 0</th>\n",
       "      <th>TimeStamp(epoch)</th>\n",
       "      <th>mAccelerometerMagnitude(m/s^2)</th>\n",
       "      <th>mAccelerometerX(m/s^2)</th>\n",
       "      <th>mAccelerometerY(m/s^2)</th>\n",
       "      <th>mAccelerometerZ(m/s^2)</th>\n",
       "      <th>mGyroscopeMagnitude(rad/s)</th>\n",
       "      <th>mGyroscopeX(rad/s)</th>\n",
       "      <th>mGyroscopeY(rad/s)</th>\n",
       "      <th>mGyroscopeZ(rad/s)</th>\n",
       "      <th>mGyroscopeZ(rad/s)</th>\n",
       "    </tr>\n",
       "  </thead>\n",
       "  <tbody>\n",
       "    <tr>\n",
       "      <th>0</th>\n",
       "      <td>0</td>\n",
       "      <td>1567788862015</td>\n",
       "      <td>11.736408</td>\n",
       "      <td>4.974456</td>\n",
       "      <td>3.506309</td>\n",
       "      <td>10.035132</td>\n",
       "      <td>1.123515</td>\n",
       "      <td>0.557133</td>\n",
       "      <td>-0.962999</td>\n",
       "      <td>-0.156594</td>\n",
       "      <td>NaN</td>\n",
       "    </tr>\n",
       "    <tr>\n",
       "      <th>1</th>\n",
       "      <td>1</td>\n",
       "      <td>1567788862026</td>\n",
       "      <td>11.684967</td>\n",
       "      <td>5.007986</td>\n",
       "      <td>3.618874</td>\n",
       "      <td>9.917776</td>\n",
       "      <td>1.197819</td>\n",
       "      <td>0.612527</td>\n",
       "      <td>-1.010936</td>\n",
       "      <td>-0.193878</td>\n",
       "      <td>NaN</td>\n",
       "    </tr>\n",
       "    <tr>\n",
       "      <th>2</th>\n",
       "      <td>2</td>\n",
       "      <td>1567788862027</td>\n",
       "      <td>11.895511</td>\n",
       "      <td>5.173243</td>\n",
       "      <td>3.688330</td>\n",
       "      <td>10.056687</td>\n",
       "      <td>1.283684</td>\n",
       "      <td>0.656203</td>\n",
       "      <td>-1.081243</td>\n",
       "      <td>-0.219444</td>\n",
       "      <td>NaN</td>\n",
       "    </tr>\n",
       "    <tr>\n",
       "      <th>3</th>\n",
       "      <td>3</td>\n",
       "      <td>1567788862035</td>\n",
       "      <td>11.865849</td>\n",
       "      <td>5.249883</td>\n",
       "      <td>3.800896</td>\n",
       "      <td>9.939331</td>\n",
       "      <td>1.389009</td>\n",
       "      <td>0.709466</td>\n",
       "      <td>-1.166465</td>\n",
       "      <td>-0.255663</td>\n",
       "      <td>NaN</td>\n",
       "    </tr>\n",
       "    <tr>\n",
       "      <th>4</th>\n",
       "      <td>4</td>\n",
       "      <td>1567788862036</td>\n",
       "      <td>11.993441</td>\n",
       "      <td>5.206773</td>\n",
       "      <td>3.824846</td>\n",
       "      <td>10.104588</td>\n",
       "      <td>1.504820</td>\n",
       "      <td>0.764860</td>\n",
       "      <td>-1.265534</td>\n",
       "      <td>-0.279099</td>\n",
       "      <td>NaN</td>\n",
       "    </tr>\n",
       "  </tbody>\n",
       "</table>\n",
       "</div>"
      ],
      "text/plain": [
       "   Unnamed: 0  TimeStamp(epoch)  mAccelerometerMagnitude(m/s^2)  \\\n",
       "0           0     1567788862015                       11.736408   \n",
       "1           1     1567788862026                       11.684967   \n",
       "2           2     1567788862027                       11.895511   \n",
       "3           3     1567788862035                       11.865849   \n",
       "4           4     1567788862036                       11.993441   \n",
       "\n",
       "   mAccelerometerX(m/s^2)  mAccelerometerY(m/s^2)  mAccelerometerZ(m/s^2)  \\\n",
       "0                4.974456                3.506309               10.035132   \n",
       "1                5.007986                3.618874                9.917776   \n",
       "2                5.173243                3.688330               10.056687   \n",
       "3                5.249883                3.800896                9.939331   \n",
       "4                5.206773                3.824846               10.104588   \n",
       "\n",
       "   mGyroscopeMagnitude(rad/s)  mGyroscopeX(rad/s)  mGyroscopeY(rad/s)  \\\n",
       "0                    1.123515            0.557133           -0.962999   \n",
       "1                    1.197819            0.612527           -1.010936   \n",
       "2                    1.283684            0.656203           -1.081243   \n",
       "3                    1.389009            0.709466           -1.166465   \n",
       "4                    1.504820            0.764860           -1.265534   \n",
       "\n",
       "   mGyroscopeZ(rad/s)   mGyroscopeZ(rad/s)  \n",
       "0            -0.156594                 NaN  \n",
       "1            -0.193878                 NaN  \n",
       "2            -0.219444                 NaN  \n",
       "3            -0.255663                 NaN  \n",
       "4            -0.279099                 NaN  "
      ]
     },
     "execution_count": 11,
     "metadata": {},
     "output_type": "execute_result"
    }
   ],
   "source": [
    "parkinsons_df.head()"
   ]
  },
  {
   "cell_type": "code",
   "execution_count": 12,
   "metadata": {},
   "outputs": [],
   "source": [
    "parkinsons_df.drop(parkinsons_df.columns[[0,2,6,10]], axis=1, inplace=True)"
   ]
  },
  {
   "cell_type": "code",
   "execution_count": 13,
   "metadata": {},
   "outputs": [
    {
     "data": {
      "text/html": [
       "<div>\n",
       "<style scoped>\n",
       "    .dataframe tbody tr th:only-of-type {\n",
       "        vertical-align: middle;\n",
       "    }\n",
       "\n",
       "    .dataframe tbody tr th {\n",
       "        vertical-align: top;\n",
       "    }\n",
       "\n",
       "    .dataframe thead th {\n",
       "        text-align: right;\n",
       "    }\n",
       "</style>\n",
       "<table border=\"1\" class=\"dataframe\">\n",
       "  <thead>\n",
       "    <tr style=\"text-align: right;\">\n",
       "      <th></th>\n",
       "      <th>TimeStamp(epoch)</th>\n",
       "      <th>mAccelerometerX(m/s^2)</th>\n",
       "      <th>mAccelerometerY(m/s^2)</th>\n",
       "      <th>mAccelerometerZ(m/s^2)</th>\n",
       "      <th>mGyroscopeX(rad/s)</th>\n",
       "      <th>mGyroscopeY(rad/s)</th>\n",
       "      <th>mGyroscopeZ(rad/s)</th>\n",
       "    </tr>\n",
       "  </thead>\n",
       "  <tbody>\n",
       "    <tr>\n",
       "      <th>0</th>\n",
       "      <td>1567788862015</td>\n",
       "      <td>4.974456</td>\n",
       "      <td>3.506309</td>\n",
       "      <td>10.035132</td>\n",
       "      <td>0.557133</td>\n",
       "      <td>-0.962999</td>\n",
       "      <td>-0.156594</td>\n",
       "    </tr>\n",
       "    <tr>\n",
       "      <th>1</th>\n",
       "      <td>1567788862026</td>\n",
       "      <td>5.007986</td>\n",
       "      <td>3.618874</td>\n",
       "      <td>9.917776</td>\n",
       "      <td>0.612527</td>\n",
       "      <td>-1.010936</td>\n",
       "      <td>-0.193878</td>\n",
       "    </tr>\n",
       "    <tr>\n",
       "      <th>2</th>\n",
       "      <td>1567788862027</td>\n",
       "      <td>5.173243</td>\n",
       "      <td>3.688330</td>\n",
       "      <td>10.056687</td>\n",
       "      <td>0.656203</td>\n",
       "      <td>-1.081243</td>\n",
       "      <td>-0.219444</td>\n",
       "    </tr>\n",
       "    <tr>\n",
       "      <th>3</th>\n",
       "      <td>1567788862035</td>\n",
       "      <td>5.249883</td>\n",
       "      <td>3.800896</td>\n",
       "      <td>9.939331</td>\n",
       "      <td>0.709466</td>\n",
       "      <td>-1.166465</td>\n",
       "      <td>-0.255663</td>\n",
       "    </tr>\n",
       "    <tr>\n",
       "      <th>4</th>\n",
       "      <td>1567788862036</td>\n",
       "      <td>5.206773</td>\n",
       "      <td>3.824846</td>\n",
       "      <td>10.104588</td>\n",
       "      <td>0.764860</td>\n",
       "      <td>-1.265534</td>\n",
       "      <td>-0.279099</td>\n",
       "    </tr>\n",
       "  </tbody>\n",
       "</table>\n",
       "</div>"
      ],
      "text/plain": [
       "   TimeStamp(epoch)  mAccelerometerX(m/s^2)  mAccelerometerY(m/s^2)  \\\n",
       "0     1567788862015                4.974456                3.506309   \n",
       "1     1567788862026                5.007986                3.618874   \n",
       "2     1567788862027                5.173243                3.688330   \n",
       "3     1567788862035                5.249883                3.800896   \n",
       "4     1567788862036                5.206773                3.824846   \n",
       "\n",
       "   mAccelerometerZ(m/s^2)  mGyroscopeX(rad/s)  mGyroscopeY(rad/s)  \\\n",
       "0               10.035132            0.557133           -0.962999   \n",
       "1                9.917776            0.612527           -1.010936   \n",
       "2               10.056687            0.656203           -1.081243   \n",
       "3                9.939331            0.709466           -1.166465   \n",
       "4               10.104588            0.764860           -1.265534   \n",
       "\n",
       "   mGyroscopeZ(rad/s)   \n",
       "0            -0.156594  \n",
       "1            -0.193878  \n",
       "2            -0.219444  \n",
       "3            -0.255663  \n",
       "4            -0.279099  "
      ]
     },
     "execution_count": 13,
     "metadata": {},
     "output_type": "execute_result"
    }
   ],
   "source": [
    "parkinsons_df.head()"
   ]
  },
  {
   "cell_type": "code",
   "execution_count": 14,
   "metadata": {},
   "outputs": [],
   "source": [
    "#here we will make subsets of our df's to better implement them into svm\n",
    "#for this excersize we will  just take the time and x accereration from each df\n",
    "#since we have a vast quantity of data we will take a subset of that data so we dont overwhelm the SVM or use too many computer resources\n",
    "#we will use a subset of 10000 data points \n",
    "sub_h_df = h_df[[\"TimeStamp(epoch)\",\"mAccelerometerX(m/s^2)\"]][0:10000]\n",
    "sub_et_df = et_df[[\"TimeStamp(epoch)\",\"mAccelerometerX(m/s^2)\"]][0:10000]\n",
    "sub_p_df = parkinsons_df[[\"TimeStamp(epoch)\",\"mAccelerometerX(m/s^2)\"]][0:10000]"
   ]
  },
  {
   "cell_type": "code",
   "execution_count": 15,
   "metadata": {},
   "outputs": [
    {
     "data": {
      "text/plain": [
       "<AxesSubplot: xlabel='TimeStamp(epoch)', ylabel='mAccelerometerX(m/s^2)'>"
      ]
     },
     "execution_count": 15,
     "metadata": {},
     "output_type": "execute_result"
    },
    {
     "data": {
      "image/png": "[encoded data removed]",
      "text/plain": [
       "<Figure size 640x480 with 1 Axes>"
      ]
     },
     "metadata": {},
     "output_type": "display_data"
    }
   ],
   "source": [
    "#gonna try to scatter plot one of our sub df's to see what they look like\n",
    "#this is to get a rough idea of how the different classes differ via graphical rep\n",
    "\n",
    "axis = sub_h_df.plot(kind='scatter', x='TimeStamp(epoch)', y='mAccelerometerX(m/s^2)', color='blue', \n",
    "              label='Healthy')\n",
    "sub_et_df.plot(kind='scatter', x='TimeStamp(epoch)', y='mAccelerometerX(m/s^2)', color='red', \n",
    "              label='ET', ax=axis)\n",
    "sub_p_df.plot(kind='scatter', x='TimeStamp(epoch)', y='mAccelerometerX(m/s^2)', color='green', \n",
    "             label='Parkinsons', ax=axis)\n"
   ]
  },
  {
   "cell_type": "code",
   "execution_count": 73,
   "metadata": {},
   "outputs": [
    {
     "data": {
      "text/plain": [
       "3931"
      ]
     },
     "execution_count": 73,
     "metadata": {},
     "output_type": "execute_result"
    }
   ],
   "source": [
    "#now we have to process the data because there are missing values within each of the classes\n",
    "#makes gives us errors in the svm so we will fill in those gaps with just the avg values along the respective columns\n",
    "h_df.isnull().sum().sum()\n",
    "et_df.isnull().sum().sum()\n",
    "parkinsons_df.isnull().sum().sum()"
   ]
  },
  {
   "cell_type": "code",
   "execution_count": 67,
   "metadata": {},
   "outputs": [],
   "source": [
    "#creating array's to pass into a variable to later pass into svm\n",
    "x1_h = (h_df[[\"mAccelerometerX(m/s^2)\"]])\n",
    "x2_h = (h_df[[\"mAccelerometerY(m/s^2)\"]])\n",
    "x3_h = (h_df[[\"mAccelerometerZ(m/s^2)\"]])\n",
    "x4_h = (h_df[[\"mGyroscopeX(rad/s)\"]])\n",
    "x5_h = (h_df[[\"mGyroscopeY(rad/s)\"]])\n",
    "x6_h = (h_df[[\"mGyroscopeZ(rad/s) \"]])\n",
    "x7_h = (h_df[[\"TimeStamp(epoch)\"]])\n",
    "\n",
    "#combining all the features into a new var that we will later concatenate into another var to pass onto for the training/testing split\n",
    "#we need a 2d x and a 1d y to pass onto the svm\n",
    "#we make the 1d y by mult the len of healthy by 0 to indicate healthy and the len of the other classes by 1 to indicate not-healthy then concatenating them. The length of x and y will mathch at the end.\n",
    "X_healthy = np.concatenate((x1_h, x2_h, x3_h, x4_h, x5_h, x6_h, x7_h), axis=1)\n",
    "y_healthy = np.asarray([0] * len(X_healthy))\n",
    "#repeating this step for the other classes\n",
    "\n",
    "x1_et = (et_df[[\"mAccelerometerX(m/s^2)\"]])\n",
    "x2_et = (et_df[[\"mAccelerometerY(m/s^2)\"]])\n",
    "x3_et = (et_df[[\"mAccelerometerZ(m/s^2)\"]])\n",
    "x4_et = (et_df[[\"mGyroscopeX(rad/s)\"]])\n",
    "x5_et = (et_df[[\"mGyroscopeY(rad/s)\"]])\n",
    "x6_et = (et_df[[\"mGyroscopeZ(rad/s) \"]])\n",
    "x7_et = (et_df[[\"TimeStamp(epoch)\"]])\n",
    "\n",
    "X_et = np.concatenate((x1_et, x2_et, x3_et, x4_et, x5_et, x6_et, x7_et), axis=1)\n",
    "y_et = np.asarray([1] * len(X_et))\n",
    "\n",
    "x1_p = (parkinsons_df[[\"mAccelerometerX(m/s^2)\"]])\n",
    "x2_p = (parkinsons_df[[\"mAccelerometerY(m/s^2)\"]])\n",
    "x3_p = (parkinsons_df[[\"mAccelerometerZ(m/s^2)\"]])\n",
    "x4_p = (parkinsons_df[[\"mGyroscopeX(rad/s)\"]])\n",
    "x5_p = (parkinsons_df[[\"mGyroscopeY(rad/s)\"]])\n",
    "x6_p = (parkinsons_df[[\"mGyroscopeZ(rad/s) \"]])\n",
    "x7_p = (parkinsons_df[[\"TimeStamp(epoch)\"]])\n",
    "\n",
    "X_p = np.concatenate((x1_p, x2_p, x3_p, x4_p, x5_p, x6_p, x7_p), axis=1)\n",
    "y_p = np.asarray([1] * len(X_p))\n",
    "\n",
    "#making our var's for svm\n",
    "X,Y = np.concatenate((X_healthy, X_et, X_p)), np.concatenate((y_healthy, y_et, y_p))\n",
    "\n"
   ]
  },
  {
   "cell_type": "code",
   "execution_count": 68,
   "metadata": {},
   "outputs": [
    {
     "name": "stdout",
     "output_type": "stream",
     "text": [
      "940107 940107\n"
     ]
    }
   ],
   "source": [
    "#checking to see if length is correct size\n",
    "print(len(X),len(Y))"
   ]
  },
  {
   "cell_type": "code",
   "execution_count": 69,
   "metadata": {},
   "outputs": [],
   "source": [
    "#next step is to down sample the data bc otherwise it'll take all night for svm to process\n",
    "from sklearn.utils import resample\n",
    "\n",
    "X_ds = resample(X, replace=False, n_samples=50000, random_state=12 )\n",
    "Y_ds = resample(Y, replace=False, n_samples=50000, random_state=12 )"
   ]
  },
  {
   "cell_type": "code",
   "execution_count": 74,
   "metadata": {},
   "outputs": [
    {
     "name": "stdout",
     "output_type": "stream",
     "text": [
      "(40000, 7) (10000, 7) (40000,) (10000,)\n"
     ]
    }
   ],
   "source": [
    "#using this cell to divide test and train data for svm \n",
    "#going to split heathy class to train(80% of the date) and test (20% of the data)\n",
    "#Train(X, Y) -> X is a 2d array and y is 1d. this tracks with the parameters of using svm\n",
    "\n",
    "#need to import sci kit for svm\n",
    "#random state is method for generating random values\n",
    "#since we only called 20% to be test data, rest is trainning\n",
    "from sklearn.model_selection import train_test_split\n",
    "\n",
    "#this will output 4 arrays from the data\n",
    "#we can also use the shape command on this arrays to see their size/shape\n",
    "X_train, X_test, Y_train, Y_test = train_test_split(X_ds, Y_ds, test_size=0.2, random_state=2)\n",
    "\n",
    "print(X_train.shape, X_test.shape, Y_train.shape, Y_test.shape)\n",
    "#x train (40000, 7)\n",
    "#x test (10000, 7)\n",
    "#y train (40000,)\n",
    "#y test (10000,)"
   ]
  },
  {
   "cell_type": "code",
   "execution_count": 83,
   "metadata": {},
   "outputs": [],
   "source": [
    "#importing svm\n",
    "\n",
    "from sklearn import svm\n",
    "\n",
    "#using impute to fill to handle the Nan values in x by filling gaps with and est mean value\n",
    "#standardizing our data set with standard scaler -> gave us incr accuracy\n",
    "\n",
    "from sklearn.preprocessing import StandardScaler\n",
    "from sklearn.impute import SimpleImputer\n",
    "\n",
    "\n",
    "imp = SimpleImputer(missing_values=np.nan, strategy='mean')\n",
    "imp = imp.fit(X_train)\n",
    "scl = StandardScaler()\n",
    "X_train_imp = imp.transform(X_train)\n",
    "X_test_imp = imp.transform(X_test)\n",
    "\n",
    "X_train_imp_scl = scl.fit_transform(X_train_imp)\n",
    "X_test_imp_scl = scl.fit_transform(X_test_imp)\n",
    "\n",
    "#using rbf kernel bc its more accurate than linaer, despite it being slower\n",
    "\n",
    "clf = svm.SVC(kernel='rbf', C=1, gamma='auto', class_weight='balanced')\n",
    "clf.fit(X_train_imp_scl, Y_train)\n",
    "\n",
    "#prediction for Y, what we are looking for!\n",
    "Y_predict = clf.predict(X_test_imp_scl)"
   ]
  },
  {
   "cell_type": "code",
   "execution_count": 84,
   "metadata": {},
   "outputs": [
    {
     "name": "stdout",
     "output_type": "stream",
     "text": [
      "              precision    recall  f1-score   support\n",
      "\n",
      "           0       0.62      0.93      0.74      3552\n",
      "           1       0.95      0.69      0.80      6448\n",
      "\n",
      "    accuracy                           0.77     10000\n",
      "   macro avg       0.78      0.81      0.77     10000\n",
      "weighted avg       0.83      0.77      0.78     10000\n",
      "\n"
     ]
    }
   ],
   "source": [
    "#evaluating results using sklean metrics\n",
    "#precision meanas how accurate the data is by adding the true ratio + error \n",
    "from sklearn.metrics import classification_report\n",
    "\n",
    "print(classification_report(Y_test, Y_predict))"
   ]
  },
  {
   "cell_type": "code",
   "execution_count": 51,
   "metadata": {},
   "outputs": [
    {
     "data": {
      "text/plain": [
       "<sklearn.metrics._plot.confusion_matrix.ConfusionMatrixDisplay at 0x2070fefeb30>"
      ]
     },
     "execution_count": 51,
     "metadata": {},
     "output_type": "execute_result"
    },
    {
     "data": {
      "image/png": "[encoded data removed]",
      "text/plain": [
       "<Figure size 640x480 with 2 Axes>"
      ]
     },
     "metadata": {},
     "output_type": "display_data"
    }
   ],
   "source": [
    "#confusion matrix\n",
    "import matplotlib.pyplot as plt\n",
    "from sklearn.metrics import confusion_matrix, ConfusionMatrixDisplay\n",
    "cm = confusion_matrix(Y_test, Y_predict)\n",
    "disp = ConfusionMatrixDisplay(confusion_matrix=cm,\n",
    "                               display_labels=['Healthy', \"Sick\"])\n",
    "disp.plot()"
   ]
  }
 ],
 "metadata": {
  "kernelspec": {
   "display_name": "Python 3.10.8 64-bit",
   "language": "python",
   "name": "python3"
  },
  "language_info": {
   "codemirror_mode": {
    "name": "ipython",
    "version": 3
   },
   "file_extension": ".py",
   "mimetype": "text/x-python",
   "name": "python",
   "nbconvert_exporter": "python",
   "pygments_lexer": "ipython3",
   "version": "3.10.8"
  },
  "orig_nbformat": 4,
  "vscode": {
   "interpreter": {
    "hash": "266855254277761620e9d1e9ba08136de81bacaabd5591480cb8d8d187e0a812"
   }
  }
 },
 "nbformat": 4,
 "nbformat_minor": 2
}
